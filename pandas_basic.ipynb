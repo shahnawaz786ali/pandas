{
  "nbformat": 4,
  "nbformat_minor": 0,
  "metadata": {
    "colab": {
      "provenance": [],
      "authorship_tag": "ABX9TyMTRCmzDLLihyXnESsh/+V4",
      "include_colab_link": true
    },
    "kernelspec": {
      "name": "python3",
      "display_name": "Python 3"
    },
    "language_info": {
      "name": "python"
    }
  },
  "cells": [
    {
      "cell_type": "markdown",
      "metadata": {
        "id": "view-in-github",
        "colab_type": "text"
      },
      "source": [
        "<a href=\"https://colab.research.google.com/github/shahnawaz786ali/pandas/blob/main/pandas_basic.ipynb\" target=\"_parent\"><img src=\"https://colab.research.google.com/assets/colab-badge.svg\" alt=\"Open In Colab\"/></a>"
      ]
    },
    {
      "cell_type": "code",
      "execution_count": null,
      "metadata": {
        "colab": {
          "base_uri": "https://localhost:8080/"
        },
        "id": "c6IP_A9BzyYd",
        "outputId": "1d4539c7-327c-4723-f804-6ce518998e28"
      },
      "outputs": [
        {
          "output_type": "stream",
          "name": "stdout",
          "text": [
            "Enter first number-10\n",
            "Enter second number-20\n",
            "200\n"
          ]
        }
      ],
      "source": [
        "a=int(input(\"Enter first number-\"))\n",
        "b=int(input(\"Enter second number-\"))\n",
        "\n",
        "print(a*b)"
      ]
    },
    {
      "cell_type": "code",
      "source": [
        "list1=[2,5,8,10,13,17,20,22]\n",
        "sum=0\n",
        "for i in list1:\n",
        "  sum=sum+i\n",
        "\n",
        "print(sum)"
      ],
      "metadata": {
        "colab": {
          "base_uri": "https://localhost:8080/"
        },
        "id": "5Z-iKp_w0RfM",
        "outputId": "b19e133f-d6b6-426b-d99c-574de98ad966"
      },
      "execution_count": null,
      "outputs": [
        {
          "output_type": "stream",
          "name": "stdout",
          "text": [
            "97\n"
          ]
        }
      ]
    },
    {
      "cell_type": "code",
      "source": [
        "import pandas as pd\n",
        "\n",
        "a=[23,90,12,23,39]\n",
        "\n",
        "s=pd.Series(a)\n",
        "print(s)"
      ],
      "metadata": {
        "colab": {
          "base_uri": "https://localhost:8080/"
        },
        "id": "zIbmbccv69cH",
        "outputId": "cc5cd367-9ffa-4a04-a500-5e3e5f77d992"
      },
      "execution_count": null,
      "outputs": [
        {
          "output_type": "stream",
          "name": "stdout",
          "text": [
            "0    23\n",
            "1    90\n",
            "2    12\n",
            "3    23\n",
            "4    39\n",
            "dtype: int64\n"
          ]
        }
      ]
    },
    {
      "cell_type": "code",
      "source": [
        "import pandas as pd\n",
        "\n",
        "a={\"Name\":['Sahil','Shahnawaz','Raju','Deepak'], \"Age\":[30,29,12,25]}\n",
        "data=pd.DataFrame(a)\n",
        "# print(data)\n",
        "# print(data.head(2))\n",
        "# print(data.tail(2))\n",
        "print(data.info)"
      ],
      "metadata": {
        "colab": {
          "base_uri": "https://localhost:8080/"
        },
        "id": "qsCBwajl7VSE",
        "outputId": "52ed860f-6a64-483c-f6b7-ae6488d76c2c"
      },
      "execution_count": null,
      "outputs": [
        {
          "output_type": "stream",
          "name": "stdout",
          "text": [
            "<bound method DataFrame.info of         Name  Age\n",
            "0      Sahil   30\n",
            "1  Shahnawaz   29\n",
            "2       Raju   12\n",
            "3     Deepak   25>\n"
          ]
        }
      ]
    },
    {
      "cell_type": "code",
      "source": [
        "print(data)\n",
        "\n",
        "print(data['Name'].describe())"
      ],
      "metadata": {
        "colab": {
          "base_uri": "https://localhost:8080/"
        },
        "id": "9QbTkgk87xdl",
        "outputId": "8db12e9a-1184-4625-aae6-e6da20617943"
      },
      "execution_count": null,
      "outputs": [
        {
          "output_type": "stream",
          "name": "stdout",
          "text": [
            "        Name  Age\n",
            "0      Sahil   30\n",
            "1  Shahnawaz   29\n",
            "2       Raju   12\n",
            "3     Deepak   25\n",
            "count         4\n",
            "unique        4\n",
            "top       Sahil\n",
            "freq          1\n",
            "Name: Name, dtype: object\n"
          ]
        }
      ]
    },
    {
      "cell_type": "code",
      "source": [
        "sorted_data=data.sort_values('Age',ascending=False)\n",
        "print(sorted_data)"
      ],
      "metadata": {
        "colab": {
          "base_uri": "https://localhost:8080/"
        },
        "id": "MDal8-8Z-5Sb",
        "outputId": "79a13801-5873-48f5-f694-d5282b4bc8ee"
      },
      "execution_count": null,
      "outputs": [
        {
          "output_type": "stream",
          "name": "stdout",
          "text": [
            "        Name  Age\n",
            "0      Sahil   30\n",
            "1  Shahnawaz   29\n",
            "3     Deepak   25\n",
            "2       Raju   12\n"
          ]
        }
      ]
    },
    {
      "cell_type": "code",
      "source": [
        "filter_data=data[(data['Age']>20) & (data['Name']==\"Sahil\")]\n",
        "print(filter_data)"
      ],
      "metadata": {
        "colab": {
          "base_uri": "https://localhost:8080/"
        },
        "id": "j_-Nsnsp_L7F",
        "outputId": "520fe0b0-8bd9-4395-8b25-b794ce4045f0"
      },
      "execution_count": null,
      "outputs": [
        {
          "output_type": "stream",
          "name": "stdout",
          "text": [
            "    Name  Age\n",
            "0  Sahil   30\n"
          ]
        }
      ]
    },
    {
      "cell_type": "code",
      "source": [
        "import pandas as pd\n",
        "\n",
        "a={\"Name\":['Sahil','Shahnawaz','Raju','Deepak','xyz','abc'], \"Age\":[30,29,12,25,30,12]}\n",
        "data=pd.DataFrame(a)\n",
        "\n",
        "mean_age=data['Age'].mean()\n",
        "median_age=data['Age'].median()\n",
        "mode_age=data['Age'].mode()\n",
        "print(mean_age)\n",
        "print(median_age)\n",
        "print(mode_age)"
      ],
      "metadata": {
        "colab": {
          "base_uri": "https://localhost:8080/"
        },
        "id": "SAkyoM1yvd-w",
        "outputId": "0d28aa57-1be9-4654-a35b-511d5c3db096"
      },
      "execution_count": null,
      "outputs": [
        {
          "output_type": "stream",
          "name": "stdout",
          "text": [
            "23.0\n",
            "27.0\n",
            "0    12\n",
            "1    30\n",
            "Name: Age, dtype: int64\n"
          ]
        }
      ]
    }
  ]
}